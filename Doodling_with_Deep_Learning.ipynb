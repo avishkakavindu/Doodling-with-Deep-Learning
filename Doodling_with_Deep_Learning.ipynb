{
 "cells": [
  {
   "cell_type": "code",
   "execution_count": 1,
   "metadata": {
    "id": "hayz8lJ3_VsG"
   },
   "outputs": [],
   "source": [
    "import pandas as pd\n",
    "import numpy as np\n",
    "import os\n",
    "import tensorflow as tf\n",
    "from tensorflow import keras\n",
    "from glob import glob\n",
    "import ast\n",
    "import matplotlib.pyplot as plt\n",
    "from PIL import Image, ImageDraw, ImageOps\n",
    "import cv2"
   ]
  },
  {
   "cell_type": "code",
   "execution_count": 2,
   "metadata": {
    "colab": {
     "base_uri": "https://localhost:8080/"
    },
    "id": "q1P_2sYuAKCs",
    "outputId": "e0549de7-2a8e-499d-bdda-802e524c21ba"
   },
   "outputs": [
    {
     "ename": "ModuleNotFoundError",
     "evalue": "No module named 'google.colab'",
     "output_type": "error",
     "traceback": [
      "\u001b[1;31m---------------------------------------------------------------------------\u001b[0m",
      "\u001b[1;31mModuleNotFoundError\u001b[0m                       Traceback (most recent call last)",
      "\u001b[1;32m<ipython-input-2-4996ee3d8d09>\u001b[0m in \u001b[0;36m<module>\u001b[1;34m\u001b[0m\n\u001b[1;32m----> 1\u001b[1;33m \u001b[1;32mfrom\u001b[0m \u001b[0mgoogle\u001b[0m\u001b[1;33m.\u001b[0m\u001b[0mcolab\u001b[0m \u001b[1;32mimport\u001b[0m \u001b[0mdrive\u001b[0m\u001b[1;33m\u001b[0m\u001b[1;33m\u001b[0m\u001b[0m\n\u001b[0m\u001b[0;32m      2\u001b[0m \u001b[0mdrive\u001b[0m\u001b[1;33m.\u001b[0m\u001b[0mmount\u001b[0m\u001b[1;33m(\u001b[0m\u001b[1;34m'/content/gdrive'\u001b[0m\u001b[1;33m)\u001b[0m\u001b[1;33m\u001b[0m\u001b[1;33m\u001b[0m\u001b[0m\n",
      "\u001b[1;31mModuleNotFoundError\u001b[0m: No module named 'google.colab'"
     ]
    }
   ],
   "source": [
    "from google.colab import drive\n",
    "drive.mount('/content/gdrive')"
   ]
  },
  {
   "cell_type": "code",
   "execution_count": null,
   "metadata": {
    "id": "gbRHZ1yNBkNB"
   },
   "outputs": [],
   "source": [
    "import os\n",
    "os.environ['KAGGLE_CONFIG_DIR'] = \"/content/gdrive/MyDrive/Colab Notebooks/Doodle Sketch recognition\"\n",
    "# /content/gdrive/My Drive/Kaggle is the path where kaggle.json is present in the Google Drive"
   ]
  },
  {
   "cell_type": "code",
   "execution_count": null,
   "metadata": {
    "colab": {
     "base_uri": "https://localhost:8080/"
    },
    "id": "woSW5omYCKNK",
    "outputId": "37aa5a0c-304b-43ba-9f3a-6145b17ec017"
   },
   "outputs": [],
   "source": [
    "!kaggle competitions download -c quickdraw-doodle-recognition"
   ]
  },
  {
   "cell_type": "code",
   "execution_count": null,
   "metadata": {
    "colab": {
     "base_uri": "https://localhost:8080/"
    },
    "id": "Iblb3aBaCui2",
    "outputId": "193cc5a5-a564-4293-8981-e5ec60e3eb6f"
   },
   "outputs": [],
   "source": [
    "#unzipping the zip files and deleting the zip files\n",
    "!unzip \\*.zip  && rm *.zip"
   ]
  },
  {
   "cell_type": "code",
   "execution_count": null,
   "metadata": {
    "id": "Vhpwn3FW_VsI"
   },
   "outputs": [],
   "source": [
    "train_dir = '/content/'"
   ]
  },
  {
   "cell_type": "markdown",
   "metadata": {
    "id": "14cBq8ue_VsJ"
   },
   "source": [
    "**Let's see how the training data looks like**"
   ]
  },
  {
   "cell_type": "code",
   "execution_count": null,
   "metadata": {
    "id": "rGnc2oWC_VsJ"
   },
   "outputs": [],
   "source": [
    "train = pd.DataFrame()\n",
    "\n",
    "# how many rows from each csv?\n",
    "get_n = 1\n",
    "\n",
    "for file in os.listdir(train_dir):\n",
    "  if file.endswith(\".csv\"):\n",
    "    train = train.append(pd.read_csv(train_dir + file, index_col='key_id', nrows=10000))"
   ]
  },
  {
   "cell_type": "code",
   "execution_count": null,
   "metadata": {
    "colab": {
     "base_uri": "https://localhost:8080/",
     "height": 236
    },
    "id": "twciFhmV_VsJ",
    "outputId": "1c58c919-3bb7-420f-deb5-3e1f8b9fe713"
   },
   "outputs": [],
   "source": [
    "train.head()"
   ]
  },
  {
   "cell_type": "code",
   "execution_count": null,
   "metadata": {
    "colab": {
     "base_uri": "https://localhost:8080/"
    },
    "id": "eA66EeHwHx5Y",
    "outputId": "a078410b-9386-4b8c-b8ce-7740bd6a9850"
   },
   "outputs": [],
   "source": [
    "train.isna().any()"
   ]
  },
  {
   "cell_type": "code",
   "execution_count": null,
   "metadata": {
    "id": "bT21jwbdH2WA"
   },
   "outputs": [],
   "source": [
    "train = train.dropna()"
   ]
  },
  {
   "cell_type": "markdown",
   "metadata": {
    "id": "tvH70Ne9_VsK"
   },
   "source": [
    "**Let's drop the timestamp, countrycode**"
   ]
  },
  {
   "cell_type": "code",
   "execution_count": null,
   "metadata": {
    "id": "PekUcP3I_VsL"
   },
   "outputs": [],
   "source": [
    "del train['timestamp']\n",
    "del train['countrycode']\n",
    "del train['recognized']"
   ]
  },
  {
   "cell_type": "markdown",
   "metadata": {
    "id": "o3Tw_fVB_VsL"
   },
   "source": [
    "**Let's convert the drawing to np array**"
   ]
  },
  {
   "cell_type": "code",
   "execution_count": null,
   "metadata": {
    "id": "q5J51Jtp_VsM"
   },
   "outputs": [],
   "source": [
    "def draw_it(strokes):\n",
    "    # PIL.Image.new() method creates a new image with the given mode and size. \n",
    "    image = Image.new(\"P\", (256,256), color=255)\n",
    "    # The ImageDraw module provides simple 2D graphics for Image objects.\n",
    "    # You can use this module to create new images, annotate or retouch existing images, \n",
    "    # and to generate graphics on the fly for web use.\n",
    "    image_draw = ImageDraw.Draw(image)\n",
    "    \n",
    "    # draw strokes on image\n",
    "    for stroke in ast.literal_eval(strokes):\n",
    "        for i in range(len(stroke[0])-1):\n",
    "            image_draw.line([stroke[0][i], \n",
    "                             stroke[1][i],\n",
    "                             stroke[0][i+1], \n",
    "                             stroke[1][i+1]],\n",
    "                            fill=0, width=5)\n",
    "    # resize the image\n",
    "    image = image.resize((64, 64))/255\n",
    "    image = np.array(image).reshape((64, 64, 1))\n",
    "   \n",
    "    return image"
   ]
  },
  {
   "cell_type": "markdown",
   "metadata": {
    "id": "6liuwWUx_VsN"
   },
   "source": [
    "**Create feature with np array of the drawing**"
   ]
  },
  {
   "cell_type": "code",
   "execution_count": null,
   "metadata": {
    "id": "ObMBDIaY_VsN"
   },
   "outputs": [],
   "source": [
    "train['drawing_np'] = train['drawing'].apply(draw_it)"
   ]
  },
  {
   "cell_type": "code",
   "execution_count": null,
   "metadata": {
    "colab": {
     "base_uri": "https://localhost:8080/",
     "height": 236
    },
    "id": "HKuFOqVe_VsN",
    "outputId": "c29eab4b-a873-4f64-a506-2b4fea20d450"
   },
   "outputs": [],
   "source": [
    "train.head()"
   ]
  },
  {
   "cell_type": "markdown",
   "metadata": {
    "id": "uGXTsNr9_VsN"
   },
   "source": [
    "**Let's plot a image and see**"
   ]
  },
  {
   "cell_type": "code",
   "execution_count": null,
   "metadata": {
    "colab": {
     "base_uri": "https://localhost:8080/",
     "height": 593
    },
    "id": "pc1N9xtc_VsO",
    "outputId": "398f72f3-2732-4735-ce80-2daa3043a0ff"
   },
   "outputs": [],
   "source": [
    "def plot_np_image(image_arr, word):\n",
    "    \"\"\" Method to plot np array image \"\"\"\n",
    "    \n",
    "    fig = plt.figure()\n",
    "    ax2 = fig.add_subplot(111, frameon=False)\n",
    "    ax2.imshow(image_arr[:,:,0])\n",
    "    plt.title(word)\n",
    "    plt.show()\n",
    "    print('Image shape: {}'.format(np.array(image_arr).shape))\n",
    "\n",
    "plot_np_image(train['drawing_np'].iloc[0], train['word'].iloc[0])\n"
   ]
  },
  {
   "cell_type": "markdown",
   "metadata": {
    "id": "M1aqDMri_VsO"
   },
   "source": [
    "**Let's shuffle the dataset**"
   ]
  },
  {
   "cell_type": "code",
   "execution_count": null,
   "metadata": {
    "id": "4amSyluk_VsO"
   },
   "outputs": [],
   "source": [
    "train = train.sample(frac=1).reset_index(drop=True)"
   ]
  },
  {
   "cell_type": "code",
   "execution_count": null,
   "metadata": {
    "colab": {
     "base_uri": "https://localhost:8080/",
     "height": 205
    },
    "id": "rl3uBH7T_VsO",
    "outputId": "4dc7e2db-f89c-43e3-ad04-2e0889aa3bdd"
   },
   "outputs": [],
   "source": [
    "train.head()"
   ]
  },
  {
   "cell_type": "code",
   "execution_count": null,
   "metadata": {
    "id": "xq6lRWzf_VsP"
   },
   "outputs": [],
   "source": [
    "del train['drawing']"
   ]
  },
  {
   "cell_type": "markdown",
   "metadata": {
    "id": "_6TM7MbE_VsP"
   },
   "source": [
    "**Independant Dependant Var**"
   ]
  },
  {
   "cell_type": "code",
   "execution_count": null,
   "metadata": {
    "id": "Hq1A0Un2_VsP"
   },
   "outputs": [],
   "source": [
    "from tensorflow.keras import utils\n",
    "from sklearn.preprocessing import LabelEncoder\n",
    "\n",
    "num_classes = len(train['word'].unique())"
   ]
  },
  {
   "cell_type": "code",
   "execution_count": null,
   "metadata": {
    "colab": {
     "base_uri": "https://localhost:8080/"
    },
    "id": "htiV-_I2_VsP",
    "outputId": "d07899fa-ead7-48f0-beaa-467ebcecece3",
    "scrolled": true
   },
   "outputs": [],
   "source": [
    "x = np.stack(train['drawing_np'].to_numpy())\n",
    "x.shape"
   ]
  },
  {
   "cell_type": "code",
   "execution_count": null,
   "metadata": {
    "id": "LZ0raJk2_VsP"
   },
   "outputs": [],
   "source": [
    "label_encoder = LabelEncoder()"
   ]
  },
  {
   "cell_type": "code",
   "execution_count": null,
   "metadata": {
    "id": "DS2fUy8P_VsP"
   },
   "outputs": [],
   "source": [
    "y = train['word']\n",
    "y = label_encoder.fit_transform(y)\n",
    "y_lbl = y\n",
    "y = utils.to_categorical(y, num_classes)"
   ]
  },
  {
   "cell_type": "code",
   "execution_count": null,
   "metadata": {
    "colab": {
     "base_uri": "https://localhost:8080/"
    },
    "id": "aSRUDm8-oa5W",
    "outputId": "316fb79b-59ae-401b-b7c4-307fae80472c"
   },
   "outputs": [],
   "source": [
    "label_encoder.inverse_transform(y_lbl)"
   ]
  },
  {
   "cell_type": "markdown",
   "metadata": {
    "id": "jQN-Fcy6_VsQ"
   },
   "source": [
    "**Train test split**"
   ]
  },
  {
   "cell_type": "code",
   "execution_count": null,
   "metadata": {
    "id": "74PehClY_VsQ"
   },
   "outputs": [],
   "source": [
    "from sklearn.model_selection import train_test_split"
   ]
  },
  {
   "cell_type": "code",
   "execution_count": null,
   "metadata": {
    "id": "ysSUVU6v_VsQ"
   },
   "outputs": [],
   "source": [
    "x_train, x_test, y_train, y_test = train_test_split(x, y, train_size=0.7)"
   ]
  },
  {
   "cell_type": "code",
   "execution_count": null,
   "metadata": {
    "id": "q0kLaAm8_VsQ"
   },
   "outputs": [],
   "source": [
    "import tensorflow as tf\n",
    "from tensorflow import keras\n",
    "from tensorflow.keras.models import Sequential\n",
    "from tensorflow.keras.layers import Dense, Dropout, Flatten\n",
    "from tensorflow.keras.layers import Conv2D, MaxPooling2D\n",
    "from tensorflow.keras.metrics import top_k_categorical_accuracy\n",
    "from tensorflow.keras.callbacks import ModelCheckpoint, ReduceLROnPlateau, EarlyStopping"
   ]
  },
  {
   "cell_type": "code",
   "execution_count": null,
   "metadata": {
    "colab": {
     "base_uri": "https://localhost:8080/"
    },
    "id": "_TIZxvEk_VsQ",
    "outputId": "968c3960-061a-486d-b54b-60d6f578e2cc"
   },
   "outputs": [],
   "source": [
    "model = Sequential()\n",
    "model.add(Conv2D(32, kernel_size=(3, 3), padding='same', activation='relu', input_shape=(64, 64, 1)))\n",
    "model.add(MaxPooling2D(pool_size=(2, 2)))\n",
    "model.add(Conv2D(64, kernel_size=(3, 3), padding='same', activation='relu'))\n",
    "model.add(MaxPooling2D(pool_size=(2, 2)))\n",
    "model.add(Dropout(0.2))\n",
    "model.add(Flatten())\n",
    "model.add(Dense(680, activation='relu'))\n",
    "model.add(Dropout(0.5))\n",
    "model.add(Dense(num_classes, activation='softmax'))\n",
    "model.summary()"
   ]
  },
  {
   "cell_type": "code",
   "execution_count": null,
   "metadata": {
    "id": "rUk4807C_VsQ"
   },
   "outputs": [],
   "source": [
    "model.compile(loss='categorical_crossentropy',\n",
    "              optimizer='adam',\n",
    "              metrics=['accuracy'])"
   ]
  },
  {
   "cell_type": "code",
   "execution_count": null,
   "metadata": {
    "colab": {
     "base_uri": "https://localhost:8080/"
    },
    "id": "xpBpnBGR_VsQ",
    "outputId": "901415a7-a1b4-4be1-a9f0-38db4e8fdb19"
   },
   "outputs": [],
   "source": [
    "model.fit(np.array(x_train), np.array(y_train), batch_size=32, epochs=10)"
   ]
  },
  {
   "cell_type": "code",
   "execution_count": null,
   "metadata": {
    "id": "WC6esGvk_VsQ"
   },
   "outputs": [],
   "source": [
    "preds = model.predict(x_test)"
   ]
  },
  {
   "cell_type": "code",
   "execution_count": null,
   "metadata": {
    "id": "octxKD_n_VsQ"
   },
   "outputs": [],
   "source": [
    "_, acc = model.evaluate(x_test, y_test, verbose=0)"
   ]
  },
  {
   "cell_type": "code",
   "execution_count": null,
   "metadata": {
    "colab": {
     "base_uri": "https://localhost:8080/"
    },
    "id": "gloN4M-v_VsR",
    "outputId": "cb28500e-ab60-4fe2-c91a-92902e78c480"
   },
   "outputs": [],
   "source": [
    "acc"
   ]
  },
  {
   "cell_type": "code",
   "execution_count": null,
   "metadata": {
    "id": "Z4_GNNYZa0cX"
   },
   "outputs": [],
   "source": [
    "test = pd.read_csv('/content/test_simplified.csv')"
   ]
  },
  {
   "cell_type": "code",
   "execution_count": null,
   "metadata": {
    "id": "mXqztq1bbcr2"
   },
   "outputs": [],
   "source": [
    "test['drawing'] = test['drawing'].apply(draw_it)"
   ]
  },
  {
   "cell_type": "code",
   "execution_count": null,
   "metadata": {
    "colab": {
     "base_uri": "https://localhost:8080/",
     "height": 299
    },
    "id": "XqmLplN7rq_E",
    "outputId": "5191bdf6-303b-425c-dc0b-e6db2ce5d3aa"
   },
   "outputs": [],
   "source": [
    "sample_file = test['drawing'].iloc[0]\n",
    "plot_np_image(sample_file, 'test')"
   ]
  },
  {
   "cell_type": "code",
   "execution_count": null,
   "metadata": {
    "id": "0lWvP5rnr7Y7"
   },
   "outputs": [],
   "source": [
    "sample_np = np.stack(sample_file)"
   ]
  },
  {
   "cell_type": "code",
   "execution_count": null,
   "metadata": {
    "id": "aDWwGho3sgsC"
   },
   "outputs": [],
   "source": [
    "sample_file = sample_file.reshape((1,) + sample_file.shape)"
   ]
  },
  {
   "cell_type": "code",
   "execution_count": null,
   "metadata": {
    "colab": {
     "base_uri": "https://localhost:8080/"
    },
    "id": "QQYkwNbwtFnT",
    "outputId": "477d83fa-f155-485c-b626-17c5f6b7bcb3"
   },
   "outputs": [],
   "source": [
    "sample_file.shape"
   ]
  },
  {
   "cell_type": "code",
   "execution_count": null,
   "metadata": {
    "id": "KT0s43bAcA1X"
   },
   "outputs": [],
   "source": [
    "test_arr = np.stack(test['drawing'].to_numpy())"
   ]
  },
  {
   "cell_type": "code",
   "execution_count": null,
   "metadata": {
    "colab": {
     "base_uri": "https://localhost:8080/"
    },
    "id": "xCNFJfnZtSRY",
    "outputId": "af39fc1e-67c8-40f4-91e1-918db73b3d3e"
   },
   "outputs": [],
   "source": [
    "test_arr.shape"
   ]
  },
  {
   "cell_type": "code",
   "execution_count": null,
   "metadata": {
    "id": "oHEzf1i1rej4"
   },
   "outputs": [],
   "source": [
    "def get_predictions_for_one(new_img):\n",
    "  pred = model.predict(new_img)\n",
    "  pred =  np.argsort(-pred)[:, 0:3]\n",
    "  print(pred)\n",
    "  return label_encoder.inverse_transform(pred[0])\n"
   ]
  },
  {
   "cell_type": "code",
   "execution_count": null,
   "metadata": {
    "colab": {
     "base_uri": "https://localhost:8080/"
    },
    "id": "TNMXkurZRpAx",
    "outputId": "1222ce94-5ef4-4afb-8c9c-f70e5f99e19a"
   },
   "outputs": [],
   "source": [
    "print(get_predictions_for_one(ze))"
   ]
  },
  {
   "cell_type": "code",
   "execution_count": null,
   "metadata": {
    "id": "dZXAhTQkcK5g"
   },
   "outputs": [],
   "source": [
    "preds = model.predict(test_arr)"
   ]
  },
  {
   "cell_type": "code",
   "execution_count": null,
   "metadata": {
    "id": "xqKzNhQacQ2F"
   },
   "outputs": [],
   "source": [
    "n =  np.argsort(-preds)[:, 0:3]"
   ]
  },
  {
   "cell_type": "code",
   "execution_count": null,
   "metadata": {
    "id": "XrtONtUjpjRO"
   },
   "outputs": [],
   "source": [
    "top_3 = []\n",
    "for i in n:\n",
    "  top_3.append(label_encoder.inverse_transform(i))"
   ]
  },
  {
   "cell_type": "code",
   "execution_count": null,
   "metadata": {
    "id": "fx2OC5W1xtnx"
   },
   "outputs": [],
   "source": [
    "pred_df = pd.DataFrame(top_3, columns=['pred_1', 'pred_2', 'pred_3'])"
   ]
  },
  {
   "cell_type": "code",
   "execution_count": null,
   "metadata": {
    "id": "BsFEhpjQ5-Kc"
   },
   "outputs": [],
   "source": [
    "pred_df.shape"
   ]
  },
  {
   "cell_type": "code",
   "execution_count": null,
   "metadata": {
    "id": "v4QEqIuZyRRO"
   },
   "outputs": [],
   "source": [
    "pred_df = pred_df.replace(' ', '_', regex=True)"
   ]
  },
  {
   "cell_type": "code",
   "execution_count": null,
   "metadata": {
    "id": "UetCF2jVzfqX"
   },
   "outputs": [],
   "source": [
    "pred_df['word'] = pred_df[pred_df.columns].apply(\n",
    "    lambda x: ' '.join(x.dropna().astype(str)),\n",
    "    axis=1\n",
    ")"
   ]
  },
  {
   "cell_type": "code",
   "execution_count": null,
   "metadata": {
    "id": "zUSjlSZ66Gxm"
   },
   "outputs": [],
   "source": [
    "pred_df.shape"
   ]
  },
  {
   "cell_type": "code",
   "execution_count": null,
   "metadata": {
    "id": "oNYvVJQAzzzX"
   },
   "outputs": [],
   "source": [
    "pred_df.head(50)"
   ]
  },
  {
   "cell_type": "code",
   "execution_count": null,
   "metadata": {
    "id": "_ArlSpH70aT1"
   },
   "outputs": [],
   "source": [
    "test['word'] = pred_df['word']"
   ]
  },
  {
   "cell_type": "code",
   "execution_count": null,
   "metadata": {
    "id": "ltU-MIlX0ir1"
   },
   "outputs": [],
   "source": [
    "del test['countrycode']"
   ]
  },
  {
   "cell_type": "code",
   "execution_count": null,
   "metadata": {
    "id": "npSgy42o0yvf"
   },
   "outputs": [],
   "source": [
    "del test['drawing']"
   ]
  },
  {
   "cell_type": "code",
   "execution_count": null,
   "metadata": {
    "id": "2jj_YF-e1JUT"
   },
   "outputs": [],
   "source": [
    "test.head(10)"
   ]
  },
  {
   "cell_type": "code",
   "execution_count": null,
   "metadata": {
    "id": "MuNqrJAG1XlG"
   },
   "outputs": [],
   "source": [
    "test.to_csv('my_preds.csv', index=False)"
   ]
  },
  {
   "cell_type": "code",
   "execution_count": null,
   "metadata": {
    "id": "E03HGUXlrfmc"
   },
   "outputs": [],
   "source": []
  }
 ],
 "metadata": {
  "accelerator": "GPU",
  "colab": {
   "collapsed_sections": [],
   "name": "Doodling-with-Deep-Learning.ipynb",
   "provenance": []
  },
  "kernelspec": {
   "display_name": "Python 3",
   "language": "python",
   "name": "python3"
  },
  "language_info": {
   "codemirror_mode": {
    "name": "ipython",
    "version": 3
   },
   "file_extension": ".py",
   "mimetype": "text/x-python",
   "name": "python",
   "nbconvert_exporter": "python",
   "pygments_lexer": "ipython3",
   "version": "3.8.5"
  }
 },
 "nbformat": 4,
 "nbformat_minor": 1
}
