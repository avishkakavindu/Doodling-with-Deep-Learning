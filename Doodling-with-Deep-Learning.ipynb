{
 "cells": [
  {
   "cell_type": "code",
   "execution_count": 1,
   "metadata": {},
   "outputs": [],
   "source": [
    "import pandas as pd\n",
    "import numpy as np\n",
    "import os\n",
    "import tensorflow as tf\n",
    "from tensorflow import keras\n",
    "from glob import glob\n",
    "import ast\n",
    "import matplotlib.pyplot as plt\n",
    "from PIL import Image, ImageDraw, ImageOps\n",
    "import cv2"
   ]
  },
  {
   "cell_type": "code",
   "execution_count": 2,
   "metadata": {},
   "outputs": [],
   "source": [
    "train_dir = 'dataset/'"
   ]
  },
  {
   "cell_type": "markdown",
   "metadata": {},
   "source": [
    "**Let's see how the training data looks like**"
   ]
  },
  {
   "cell_type": "code",
   "execution_count": 3,
   "metadata": {},
   "outputs": [],
   "source": [
    "train = pd.DataFrame()\n",
    "\n",
    "for file in os.listdir(train_dir):\n",
    "    train = train.append(pd.read_csv(train_dir + file, index_col='key_id', nrows=1))"
   ]
  },
  {
   "cell_type": "code",
   "execution_count": 4,
   "metadata": {},
   "outputs": [
    {
     "data": {
      "text/html": [
       "<div>\n",
       "<style scoped>\n",
       "    .dataframe tbody tr th:only-of-type {\n",
       "        vertical-align: middle;\n",
       "    }\n",
       "\n",
       "    .dataframe tbody tr th {\n",
       "        vertical-align: top;\n",
       "    }\n",
       "\n",
       "    .dataframe thead th {\n",
       "        text-align: right;\n",
       "    }\n",
       "</style>\n",
       "<table border=\"1\" class=\"dataframe\">\n",
       "  <thead>\n",
       "    <tr style=\"text-align: right;\">\n",
       "      <th></th>\n",
       "      <th>countrycode</th>\n",
       "      <th>drawing</th>\n",
       "      <th>recognized</th>\n",
       "      <th>timestamp</th>\n",
       "      <th>word</th>\n",
       "    </tr>\n",
       "    <tr>\n",
       "      <th>key_id</th>\n",
       "      <th></th>\n",
       "      <th></th>\n",
       "      <th></th>\n",
       "      <th></th>\n",
       "      <th></th>\n",
       "    </tr>\n",
       "  </thead>\n",
       "  <tbody>\n",
       "    <tr>\n",
       "      <th>5152802093400064</th>\n",
       "      <td>US</td>\n",
       "      <td>[[[167, 109, 80, 69, 58, 31, 57, 117, 99, 52, ...</td>\n",
       "      <td>True</td>\n",
       "      <td>2017-03-08 21:12:07.266040</td>\n",
       "      <td>airplane</td>\n",
       "    </tr>\n",
       "    <tr>\n",
       "      <th>5159910851477504</th>\n",
       "      <td>US</td>\n",
       "      <td>[[[111, 148, 161, 175, 199, 218, 231, 236, 234...</td>\n",
       "      <td>True</td>\n",
       "      <td>2017-03-21 13:02:16.246170</td>\n",
       "      <td>alarm clock</td>\n",
       "    </tr>\n",
       "    <tr>\n",
       "      <th>5404586804248576</th>\n",
       "      <td>US</td>\n",
       "      <td>[[[13, 10, 12, 20, 39, 67, 170, 196, 213, 220,...</td>\n",
       "      <td>True</td>\n",
       "      <td>2017-01-24 12:58:28.487110</td>\n",
       "      <td>ambulance</td>\n",
       "    </tr>\n",
       "    <tr>\n",
       "      <th>5864802511486976</th>\n",
       "      <td>US</td>\n",
       "      <td>[[[93, 103, 104, 139, 140, 149, 84], [174, 111...</td>\n",
       "      <td>False</td>\n",
       "      <td>2017-03-13 15:30:54.822430</td>\n",
       "      <td>angel</td>\n",
       "    </tr>\n",
       "    <tr>\n",
       "      <th>4975017072787456</th>\n",
       "      <td>HR</td>\n",
       "      <td>[[[19, 52], [44, 50]], [[0, 0, 5], [56, 65, 69...</td>\n",
       "      <td>True</td>\n",
       "      <td>2017-03-22 11:34:53.899460</td>\n",
       "      <td>animal migration</td>\n",
       "    </tr>\n",
       "  </tbody>\n",
       "</table>\n",
       "</div>"
      ],
      "text/plain": [
       "                 countrycode  \\\n",
       "key_id                         \n",
       "5152802093400064          US   \n",
       "5159910851477504          US   \n",
       "5404586804248576          US   \n",
       "5864802511486976          US   \n",
       "4975017072787456          HR   \n",
       "\n",
       "                                                            drawing  \\\n",
       "key_id                                                                \n",
       "5152802093400064  [[[167, 109, 80, 69, 58, 31, 57, 117, 99, 52, ...   \n",
       "5159910851477504  [[[111, 148, 161, 175, 199, 218, 231, 236, 234...   \n",
       "5404586804248576  [[[13, 10, 12, 20, 39, 67, 170, 196, 213, 220,...   \n",
       "5864802511486976  [[[93, 103, 104, 139, 140, 149, 84], [174, 111...   \n",
       "4975017072787456  [[[19, 52], [44, 50]], [[0, 0, 5], [56, 65, 69...   \n",
       "\n",
       "                  recognized                   timestamp              word  \n",
       "key_id                                                                      \n",
       "5152802093400064        True  2017-03-08 21:12:07.266040          airplane  \n",
       "5159910851477504        True  2017-03-21 13:02:16.246170       alarm clock  \n",
       "5404586804248576        True  2017-01-24 12:58:28.487110         ambulance  \n",
       "5864802511486976       False  2017-03-13 15:30:54.822430             angel  \n",
       "4975017072787456        True  2017-03-22 11:34:53.899460  animal migration  "
      ]
     },
     "execution_count": 4,
     "metadata": {},
     "output_type": "execute_result"
    }
   ],
   "source": [
    "train.head()"
   ]
  },
  {
   "cell_type": "markdown",
   "metadata": {},
   "source": [
    "**Let's drop the timestamp**"
   ]
  },
  {
   "cell_type": "code",
   "execution_count": 5,
   "metadata": {},
   "outputs": [],
   "source": [
    "del train['timestamp']"
   ]
  },
  {
   "cell_type": "markdown",
   "metadata": {},
   "source": [
    "**Let's convert the drawing to np array**"
   ]
  },
  {
   "cell_type": "code",
   "execution_count": 8,
   "metadata": {},
   "outputs": [],
   "source": [
    "def draw_it(strokes):\n",
    "    # PIL.Image.new() method creates a new image with the given mode and size. \n",
    "    image = Image.new(\"P\", (256,256), color=255)\n",
    "    # The ImageDraw module provides simple 2D graphics for Image objects.\n",
    "    # You can use this module to create new images, annotate or retouch existing images, \n",
    "    # and to generate graphics on the fly for web use.\n",
    "    image_draw = ImageDraw.Draw(image)\n",
    "    \n",
    "    # draw strokes on image\n",
    "    for stroke in ast.literal_eval(strokes):\n",
    "        for i in range(len(stroke[0])-1):\n",
    "            image_draw.line([stroke[0][i], \n",
    "                             stroke[1][i],\n",
    "                             stroke[0][i+1], \n",
    "                             stroke[1][i+1]],\n",
    "                            fill=0, width=5)\n",
    "    # resize the image\n",
    "    image = image.resize((64, 64))\n",
    "   \n",
    "    return np.array(image)"
   ]
  },
  {
   "cell_type": "markdown",
   "metadata": {},
   "source": [
    "**Create feature with np array of the drawing**"
   ]
  },
  {
   "cell_type": "code",
   "execution_count": 11,
   "metadata": {},
   "outputs": [],
   "source": [
    "train['drawing_np'] = train['drawing'].apply(draw_it)"
   ]
  },
  {
   "cell_type": "code",
   "execution_count": 12,
   "metadata": {},
   "outputs": [
    {
     "data": {
      "text/html": [
       "<div>\n",
       "<style scoped>\n",
       "    .dataframe tbody tr th:only-of-type {\n",
       "        vertical-align: middle;\n",
       "    }\n",
       "\n",
       "    .dataframe tbody tr th {\n",
       "        vertical-align: top;\n",
       "    }\n",
       "\n",
       "    .dataframe thead th {\n",
       "        text-align: right;\n",
       "    }\n",
       "</style>\n",
       "<table border=\"1\" class=\"dataframe\">\n",
       "  <thead>\n",
       "    <tr style=\"text-align: right;\">\n",
       "      <th></th>\n",
       "      <th>countrycode</th>\n",
       "      <th>drawing</th>\n",
       "      <th>recognized</th>\n",
       "      <th>word</th>\n",
       "      <th>drawing_np</th>\n",
       "    </tr>\n",
       "    <tr>\n",
       "      <th>key_id</th>\n",
       "      <th></th>\n",
       "      <th></th>\n",
       "      <th></th>\n",
       "      <th></th>\n",
       "      <th></th>\n",
       "    </tr>\n",
       "  </thead>\n",
       "  <tbody>\n",
       "    <tr>\n",
       "      <th>5152802093400064</th>\n",
       "      <td>US</td>\n",
       "      <td>[[[167, 109, 80, 69, 58, 31, 57, 117, 99, 52, ...</td>\n",
       "      <td>True</td>\n",
       "      <td>airplane</td>\n",
       "      <td>[[255, 255, 255, 255, 255, 255, 255, 255, 255,...</td>\n",
       "    </tr>\n",
       "    <tr>\n",
       "      <th>5159910851477504</th>\n",
       "      <td>US</td>\n",
       "      <td>[[[111, 148, 161, 175, 199, 218, 231, 236, 234...</td>\n",
       "      <td>True</td>\n",
       "      <td>alarm clock</td>\n",
       "      <td>[[255, 255, 255, 255, 255, 255, 255, 255, 255,...</td>\n",
       "    </tr>\n",
       "    <tr>\n",
       "      <th>5404586804248576</th>\n",
       "      <td>US</td>\n",
       "      <td>[[[13, 10, 12, 20, 39, 67, 170, 196, 213, 220,...</td>\n",
       "      <td>True</td>\n",
       "      <td>ambulance</td>\n",
       "      <td>[[255, 255, 255, 255, 255, 255, 255, 255, 255,...</td>\n",
       "    </tr>\n",
       "    <tr>\n",
       "      <th>5864802511486976</th>\n",
       "      <td>US</td>\n",
       "      <td>[[[93, 103, 104, 139, 140, 149, 84], [174, 111...</td>\n",
       "      <td>False</td>\n",
       "      <td>angel</td>\n",
       "      <td>[[255, 255, 255, 255, 255, 255, 255, 255, 255,...</td>\n",
       "    </tr>\n",
       "    <tr>\n",
       "      <th>4975017072787456</th>\n",
       "      <td>HR</td>\n",
       "      <td>[[[19, 52], [44, 50]], [[0, 0, 5], [56, 65, 69...</td>\n",
       "      <td>True</td>\n",
       "      <td>animal migration</td>\n",
       "      <td>[[255, 255, 255, 255, 255, 255, 255, 255, 255,...</td>\n",
       "    </tr>\n",
       "  </tbody>\n",
       "</table>\n",
       "</div>"
      ],
      "text/plain": [
       "                 countrycode  \\\n",
       "key_id                         \n",
       "5152802093400064          US   \n",
       "5159910851477504          US   \n",
       "5404586804248576          US   \n",
       "5864802511486976          US   \n",
       "4975017072787456          HR   \n",
       "\n",
       "                                                            drawing  \\\n",
       "key_id                                                                \n",
       "5152802093400064  [[[167, 109, 80, 69, 58, 31, 57, 117, 99, 52, ...   \n",
       "5159910851477504  [[[111, 148, 161, 175, 199, 218, 231, 236, 234...   \n",
       "5404586804248576  [[[13, 10, 12, 20, 39, 67, 170, 196, 213, 220,...   \n",
       "5864802511486976  [[[93, 103, 104, 139, 140, 149, 84], [174, 111...   \n",
       "4975017072787456  [[[19, 52], [44, 50]], [[0, 0, 5], [56, 65, 69...   \n",
       "\n",
       "                  recognized              word  \\\n",
       "key_id                                           \n",
       "5152802093400064        True          airplane   \n",
       "5159910851477504        True       alarm clock   \n",
       "5404586804248576        True         ambulance   \n",
       "5864802511486976       False             angel   \n",
       "4975017072787456        True  animal migration   \n",
       "\n",
       "                                                         drawing_np  \n",
       "key_id                                                               \n",
       "5152802093400064  [[255, 255, 255, 255, 255, 255, 255, 255, 255,...  \n",
       "5159910851477504  [[255, 255, 255, 255, 255, 255, 255, 255, 255,...  \n",
       "5404586804248576  [[255, 255, 255, 255, 255, 255, 255, 255, 255,...  \n",
       "5864802511486976  [[255, 255, 255, 255, 255, 255, 255, 255, 255,...  \n",
       "4975017072787456  [[255, 255, 255, 255, 255, 255, 255, 255, 255,...  "
      ]
     },
     "execution_count": 12,
     "metadata": {},
     "output_type": "execute_result"
    }
   ],
   "source": [
    "train.head()"
   ]
  },
  {
   "cell_type": "markdown",
   "metadata": {},
   "source": [
    "**Let's plot a image and see**"
   ]
  },
  {
   "cell_type": "code",
   "execution_count": 21,
   "metadata": {},
   "outputs": [
    {
     "data": {
      "image/png": "[encoded data removed]",
      "text/plain": [
       "<Figure size 432x288 with 1 Axes>"
      ]
     },
     "metadata": {
      "needs_background": "light"
     },
     "output_type": "display_data"
    },
    {
     "name": "stdout",
     "output_type": "stream",
     "text": [
      "Image shape: (64, 64)\n"
     ]
    }
   ],
   "source": [
    "def plot_np_image(image_arr):\n",
    "    \"\"\" Method to plot np array image \"\"\"\n",
    "    \n",
    "    fig = plt.figure()\n",
    "    ax2 = fig.add_subplot(111, frameon=False)\n",
    "    ax2.imshow(image_arr)\n",
    "    plt.show()\n",
    "    print('Image shape: {}'.format(image_array.shape))\n",
    "\n",
    "plot_image(train['drawing_np'].iloc[0])\n"
   ]
  },
  {
   "cell_type": "code",
   "execution_count": null,
   "metadata": {},
   "outputs": [],
   "source": []
  }
 ],
 "metadata": {
  "kernelspec": {
   "display_name": "Python 3",
   "language": "python",
   "name": "python3"
  },
  "language_info": {
   "codemirror_mode": {
    "name": "ipython",
    "version": 3
   },
   "file_extension": ".py",
   "mimetype": "text/x-python",
   "name": "python",
   "nbconvert_exporter": "python",
   "pygments_lexer": "ipython3",
   "version": "3.8.5"
  }
 },
 "nbformat": 4,
 "nbformat_minor": 4
}
