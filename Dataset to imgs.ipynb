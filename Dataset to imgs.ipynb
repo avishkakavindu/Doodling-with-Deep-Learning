{
 "cells": [
  {
   "cell_type": "code",
   "execution_count": 1,
   "metadata": {},
   "outputs": [],
   "source": [
    "import pandas as pd\n",
    "import numpy as np\n",
    "import os\n",
    "import tensorflow as tf\n",
    "from tensorflow import keras\n",
    "from glob import glob\n",
    "import ast\n",
    "import matplotlib.pyplot as plt\n",
    "from PIL import Image, ImageDraw, ImageOps\n",
    "import cv2"
   ]
  },
  {
   "cell_type": "code",
   "execution_count": 2,
   "metadata": {},
   "outputs": [],
   "source": [
    "def draw_it(strokes):\n",
    "    # PIL.Image.new() method creates a new image with the given mode and size. \n",
    "    image = Image.new(\"P\", (256,256), color=255)\n",
    "    # The ImageDraw module provides simple 2D graphics for Image objects.\n",
    "    # You can use this module to create new images, annotate or retouch existing images, \n",
    "    # and to generate graphics on the fly for web use.\n",
    "    image_draw = ImageDraw.Draw(image)\n",
    "    \n",
    "    # draw strokes on image\n",
    "    for stroke in ast.literal_eval(strokes):\n",
    "        for i in range(len(stroke[0])-1):\n",
    "            image_draw.line([stroke[0][i], \n",
    "                             stroke[1][i],\n",
    "                             stroke[0][i+1], \n",
    "                             stroke[1][i+1]],\n",
    "                            fill=0, width=5)\n",
    "  \n",
    "   \n",
    "    return image"
   ]
  },
  {
   "cell_type": "code",
   "execution_count": 3,
   "metadata": {},
   "outputs": [],
   "source": [
    "def save_img(image, name):\n",
    "    the_dir = \"D:\\doodle images\\{}\".format(name)\n",
    "    file_name = \"D:\\doodle images\\{}\\{}.png\".format(name, name)\n",
    "    if os.path.isdir(the_dir):\n",
    "        if not os.path.isfile(file_name):\n",
    "            image.save(file_name)\n",
    "    else:\n",
    "        os.mkdir(the_dir)\n",
    "        if not os.path.isfile(file_name):\n",
    "            image.save(file_name)"
   ]
  },
  {
   "cell_type": "code",
   "execution_count": 4,
   "metadata": {},
   "outputs": [],
   "source": [
    "train_dir = 'dataset/'"
   ]
  },
  {
   "cell_type": "code",
   "execution_count": 6,
   "metadata": {},
   "outputs": [
    {
     "name": "stdout",
     "output_type": "stream",
     "text": [
      "Currently Saving: t-shirt.csv\n"
     ]
    },
    {
     "ename": "NameError",
     "evalue": "name 'image' is not defined",
     "output_type": "error",
     "traceback": [
      "\u001b[1;31m---------------------------------------------------------------------------\u001b[0m",
      "\u001b[1;31mNameError\u001b[0m                                 Traceback (most recent call last)",
      "\u001b[1;32m<ipython-input-6-f3ad6e06b138>\u001b[0m in \u001b[0;36m<module>\u001b[1;34m\u001b[0m\n\u001b[0;32m     12\u001b[0m \u001b[1;31m#         image = draw_it(train['drawing'].iloc[i])\u001b[0m\u001b[1;33m\u001b[0m\u001b[1;33m\u001b[0m\u001b[1;33m\u001b[0m\u001b[0m\n\u001b[0;32m     13\u001b[0m         \u001b[0mlabel\u001b[0m \u001b[1;33m=\u001b[0m \u001b[1;34m'{}_{}'\u001b[0m\u001b[1;33m.\u001b[0m\u001b[0mformat\u001b[0m\u001b[1;33m(\u001b[0m\u001b[0mtrain\u001b[0m\u001b[1;33m[\u001b[0m\u001b[1;34m'word'\u001b[0m\u001b[1;33m]\u001b[0m\u001b[1;33m.\u001b[0m\u001b[0miloc\u001b[0m\u001b[1;33m[\u001b[0m\u001b[1;36m0\u001b[0m\u001b[1;33m]\u001b[0m\u001b[1;33m,\u001b[0m \u001b[0mi\u001b[0m\u001b[1;33m)\u001b[0m\u001b[1;33m\u001b[0m\u001b[1;33m\u001b[0m\u001b[0m\n\u001b[1;32m---> 14\u001b[1;33m         \u001b[0msave_img\u001b[0m\u001b[1;33m(\u001b[0m\u001b[0mimage\u001b[0m\u001b[1;33m,\u001b[0m \u001b[0mlabel\u001b[0m\u001b[1;33m)\u001b[0m\u001b[1;33m\u001b[0m\u001b[1;33m\u001b[0m\u001b[0m\n\u001b[0m",
      "\u001b[1;31mNameError\u001b[0m: name 'image' is not defined"
     ]
    }
   ],
   "source": [
    "# how many rows from each csv?\n",
    "get_n = 1\n",
    "\n",
    "for file in os.listdir(train_dir):\n",
    "    try:\n",
    "        train = pd.read_csv(train_dir + file, index_col='key_id')\n",
    "    except:\n",
    "        continue\n",
    "    print('Currently Saving: {}'.format(str(file)))\n",
    "    \n",
    "    for i in range(train.shape[0]):\n",
    "        image = draw_it(train['drawing'].iloc[i])\n",
    "        label = '{}_{}'.format(train['word'].iloc[0], i)\n",
    "        save_img(image, label)"
   ]
  },
  {
   "cell_type": "code",
   "execution_count": 5,
   "metadata": {},
   "outputs": [],
   "source": [
    "path = 'D:/doodle images/'"
   ]
  },
  {
   "cell_type": "code",
   "execution_count": 6,
   "metadata": {},
   "outputs": [],
   "source": [
    "import glob\n",
    "\n",
    "files = glob.glob(path + '*.png')"
   ]
  },
  {
   "cell_type": "code",
   "execution_count": 7,
   "metadata": {},
   "outputs": [
    {
     "name": "stdout",
     "output_type": "stream",
     "text": [
      "D:\\doodle images\n"
     ]
    }
   ],
   "source": [
    "\n",
    "for file in files:\n",
    "    print(file)\n",
    "    break\n",
    "    \n",
    "#     file_name = \"D:\\doodle images\\{}.png\".format(name)\n",
    "#     if not os.path.isfile(file_name):\n",
    "#         image.save(file_name)\n",
    "    \n",
    "#     for i in range(train.shape[0]):\n",
    "#         image = draw_it(train['drawing'].iloc[i])\n",
    "#         label = '{}_{}'.format(train['word'].iloc[0], i)\n",
    "#         save_img(image, label)"
   ]
  },
  {
   "cell_type": "code",
   "execution_count": null,
   "metadata": {},
   "outputs": [],
   "source": [
    "import shutil\n",
    "import os\n",
    "\n",
    "def save_img(name):\n",
    "    the_dir = \"D:\\doodle images\\{}\".format(name.split('_')[0])\n",
    "    print(the_dir)\n",
    "    file_name = \"D:\\doodle images\\{}.png\".format(name)\n",
    "    if os.path.isdir(the_dir):\n",
    "        try:\n",
    "            shutil.move(file_name, the_dir)\n",
    "        except:\n",
    "            pass\n",
    "    else:\n",
    "        os.mkdir(the_dir)\n",
    "        shutil.move(file_name, the_dir)\n",
    "\n",
    "train_dir = 'dataset/'\n",
    "\n",
    "# how many rows from each csv?\n",
    "get_n = 1\n",
    "\n",
    "for file in os.listdir(train_dir):\n",
    "    try:\n",
    "        train = pd.read_csv(train_dir + file, index_col='key_id')\n",
    "    except:\n",
    "        continue\n",
    "    print('Currently Saving: {}'.format(str(file)))\n",
    "    \n",
    "    for i in range(train.shape[0]):\n",
    "        label = '{}_{}'.format(train['word'].iloc[0], i)\n",
    "        save_img(label)"
   ]
  }
 ],
 "metadata": {
  "kernelspec": {
   "display_name": "Python 3",
   "language": "python",
   "name": "python3"
  },
  "language_info": {
   "codemirror_mode": {
    "name": "ipython",
    "version": 3
   },
   "file_extension": ".py",
   "mimetype": "text/x-python",
   "name": "python",
   "nbconvert_exporter": "python",
   "pygments_lexer": "ipython3",
   "version": "3.8.5"
  }
 },
 "nbformat": 4,
 "nbformat_minor": 4
}